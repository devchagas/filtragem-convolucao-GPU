{
  "cells": [
    {
      "cell_type": "code",
      "execution_count": 1,
      "metadata": {
        "colab": {
          "base_uri": "https://localhost:8080/"
        },
        "id": "8n_Pe1HYeJRU",
        "outputId": "d58bc11f-c384-4ab2-8fc4-2e13e8e0c1cf"
      },
      "outputs": [
        {
          "output_type": "stream",
          "name": "stdout",
          "text": [
            "'/usr/local/cuda' -> '/usr/local/cuda-11/'\n",
            "--2023-10-17 12:01:49--  https://openmp-course.s3.amazonaws.com/llvm.tar.gz\n",
            "Resolving openmp-course.s3.amazonaws.com (openmp-course.s3.amazonaws.com)... 52.216.205.195, 52.216.37.185, 3.5.29.118, ...\n",
            "Connecting to openmp-course.s3.amazonaws.com (openmp-course.s3.amazonaws.com)|52.216.205.195|:443... connected.\n",
            "HTTP request sent, awaiting response... 200 OK\n",
            "Length: 810538565 (773M) [application/x-gzip]\n",
            "Saving to: ‘llvm.tar.gz’\n",
            "\n",
            "llvm.tar.gz         100%[===================>] 772.99M  21.8MB/s    in 26s     \n",
            "\n",
            "2023-10-17 12:02:16 (29.3 MB/s) - ‘llvm.tar.gz’ saved [810538565/810538565]\n",
            "\n"
          ]
        },
        {
          "output_type": "execute_result",
          "data": {
            "text/plain": []
          },
          "metadata": {},
          "execution_count": 1
        }
      ],
      "source": [
        "%%shell\n",
        "ln -sfnv /usr/local/cuda-11/ /usr/local/cuda\n",
        "wget https://openmp-course.s3.amazonaws.com/llvm.tar.gz\n",
        "tar -xzvf llvm.tar.gz >/dev/null 2>&1"
      ]
    },
    {
      "cell_type": "code",
      "execution_count": 2,
      "metadata": {
        "id": "rSy9e2XAe2sl"
      },
      "outputs": [],
      "source": [
        "import os\n",
        "\n",
        "os.environ['LLVM_PATH'] = '/content/llvm'\n",
        "os.environ['PATH'] = os.environ['LLVM_PATH'] + '/bin:' + os.environ['PATH']\n",
        "os.environ['LD_LIBRARY_PATH'] = os.environ['LLVM_PATH'] + '/lib:' + os.environ['LD_LIBRARY_PATH']\n",
        "os.environ['TSAN_OPTIONS'] = 'ignore_noninstrumented_modules=1'"
      ]
    },
    {
      "cell_type": "code",
      "execution_count": 3,
      "metadata": {
        "colab": {
          "base_uri": "https://localhost:8080/"
        },
        "id": "jTwal_cte3uf",
        "outputId": "6a2868b7-c3f4-4b8b-fe74-6b1d5ac796a1"
      },
      "outputs": [
        {
          "output_type": "stream",
          "name": "stdout",
          "text": [
            "Writing test.c\n"
          ]
        }
      ],
      "source": [
        "%%writefile test.c\n",
        "\n",
        "#include <omp.h>\n",
        "#include <stdio.h>\n",
        "\n",
        "int main() {\n",
        "  int num_devices = omp_get_num_devices();\n",
        "  printf(\"Temos %d dispositivo(s) alocado(s)\\n\", num_devices);\n",
        "}"
      ]
    },
    {
      "cell_type": "code",
      "execution_count": 4,
      "metadata": {
        "colab": {
          "base_uri": "https://localhost:8080/"
        },
        "id": "vTaywkf_fEmh",
        "outputId": "5c9a6d27-6494-42f1-dec7-a61653079599"
      },
      "outputs": [
        {
          "output_type": "stream",
          "name": "stdout",
          "text": [
            "clang-13: \u001b[0;1;35mwarning: \u001b[0m\u001b[1mUnknown CUDA version. cuda.h: CUDA_VERSION=11080. Assuming the latest supported version 10.1 [-Wunknown-cuda-version]\u001b[0m\n",
            "Temos 1 dispositivo(s) alocado(s)\n"
          ]
        },
        {
          "output_type": "execute_result",
          "data": {
            "text/plain": []
          },
          "metadata": {},
          "execution_count": 4
        }
      ],
      "source": [
        "%%shell\n",
        "\n",
        "clang -fopenmp -fopenmp-targets=nvptx64-nvidia-cuda -Xopenmp-target -march=sm_75 test.c -o teste\n",
        "\n",
        "./teste"
      ]
    },
    {
      "cell_type": "markdown",
      "metadata": {
        "id": "LvwKAHxyfoB5"
      },
      "source": [
        "# Atividade 3 - Algoritmos de processamento de imagens"
      ]
    },
    {
      "cell_type": "markdown",
      "metadata": {
        "id": "phUG9VsidDFv"
      },
      "source": [
        "Vetorização da filtragem de convolução de imagens\n",
        "\n",
        "\n"
      ]
    },
    {
      "cell_type": "code",
      "source": [
        "%%writefile atv3.c\n",
        "\n",
        "#include <stdlib.h>\n",
        "#include <stdio.h>\n",
        "#include <math.h>\n",
        "#include <sys/time.h>\n",
        "\n",
        "#define N 20000\n",
        "#define M 5\n",
        "\n",
        "int main(int argc, char *argv[]) {\n",
        "    struct timeval start, end;\n",
        "    double t, soma;\n",
        "    int i, j, x, y;\n",
        "\n",
        "    srand(0);\n",
        "\n",
        "    double *imagem = (double *) malloc(N * N * sizeof(double));\n",
        "    double *resultado = (double *) malloc(N * N * sizeof(double));\n",
        "\n",
        "    //Preenche as matrizes com valores randomicos\n",
        "    for (i = 0; i < N; i++) {\n",
        "        for (j = 0; j < N; j++) {\n",
        "            imagem[i * N + j] = (fmod (rand(), 50.111));\n",
        "        }\n",
        "    }\n",
        "\n",
        "    //Filtro Sobel Horizontal 5x5\n",
        "    double mascara[M][M] = {{2, 2, 4, 2, 2},\n",
        "                            {1, 1, 2, 1, 1},\n",
        "                            {0, 0, 0, 0, 0},\n",
        "                            {-1, -1, -2, -1, -1},\n",
        "                            {-2, -2, -4, -2, -2}};\n",
        "\n",
        "\n",
        "    gettimeofday(&start, NULL);\n",
        "\n",
        "//Convolução da imagem\n",
        "#pragma omp target teams distribute parallel for simd private(j, x, y, soma) schedule(guided) map(to:imagem[0:N*N], mascara[0:M*M]) map(tofrom:resultado[0:N*N])\n",
        "    for (i = 0; i < N; i++) {\n",
        "        for (j = 0; j < N; j++) {\n",
        "            soma = 0;\n",
        "            for (x = 0; x < M; x++) {\n",
        "                for (y = 0; y < M; y++) {\n",
        "                    int img_x = i - M / 2 + x;\n",
        "                    int img_y = j - M / 2 + y;\n",
        "\n",
        "                    if (img_x >= 0 && img_x < N && img_y >= 0 && img_y < N) {\n",
        "                        soma += imagem[img_x * N + img_y] * mascara[x][y];\n",
        "                    }\n",
        "                }\n",
        "            }\n",
        "\n",
        "            resultado[i * N + j] = soma;\n",
        "\n",
        "        }\n",
        "    }\n",
        "\n",
        "    gettimeofday(&end, NULL);\n",
        "\n",
        "    t = (double) ((end.tv_sec * 1000000 + end.tv_usec) - (start.tv_sec * 1000000 + start.tv_usec)) / 1000000.0;\n",
        "\n",
        "\t  printf(\"Tempo gasto: %f\\n\", t);\n",
        "\n",
        "    /*    //Imprimir o resultado\n",
        "    for (i = 0; i < N; i++) {\n",
        "        for (j = 0; j < N; j++) {\n",
        "            printf(\"%f \", resultado[i *N + j]);\n",
        "        }\n",
        "        printf(\"\\n\");\n",
        "    }*/\n",
        "\n",
        "    return 0;\n",
        "}"
      ],
      "metadata": {
        "colab": {
          "base_uri": "https://localhost:8080/"
        },
        "id": "2Uw-W1MsIc0a",
        "outputId": "59e862b2-914a-41c8-900e-2e11a53e1891"
      },
      "execution_count": 261,
      "outputs": [
        {
          "output_type": "stream",
          "name": "stdout",
          "text": [
            "Overwriting atv3.c\n"
          ]
        }
      ]
    },
    {
      "cell_type": "code",
      "source": [
        "!clang -fopenmp -fopenmp-targets=nvptx64-nvidia-cuda -Xopenmp-target -march=sm_75 -lm atv3.c -o atv3.x"
      ],
      "metadata": {
        "colab": {
          "base_uri": "https://localhost:8080/"
        },
        "id": "tV8aMf1NIoWo",
        "outputId": "6242f8c6-dec1-4f28-c6fa-ef024c5dea38"
      },
      "execution_count": 262,
      "outputs": [
        {
          "output_type": "stream",
          "name": "stdout",
          "text": [
            "clang-13: \u001b[0;1;35mwarning: \u001b[0m\u001b[1mUnknown CUDA version. cuda.h: CUDA_VERSION=11080. Assuming the latest supported version 10.1 [-Wunknown-cuda-version]\u001b[0m\n"
          ]
        }
      ]
    },
    {
      "cell_type": "code",
      "source": [
        "!./atv3.x"
      ],
      "metadata": {
        "id": "Y4XR0rfpIt-d",
        "colab": {
          "base_uri": "https://localhost:8080/"
        },
        "outputId": "150d5115-638d-40a6-8b59-209f1ea996b6"
      },
      "execution_count": 267,
      "outputs": [
        {
          "output_type": "stream",
          "name": "stdout",
          "text": [
            "Tempo gasto: 7.972466\n"
          ]
        }
      ]
    }
  ],
  "metadata": {
    "accelerator": "GPU",
    "colab": {
      "provenance": []
    },
    "kernelspec": {
      "display_name": "Python 3",
      "name": "python3"
    },
    "language_info": {
      "name": "python"
    }
  },
  "nbformat": 4,
  "nbformat_minor": 0
}